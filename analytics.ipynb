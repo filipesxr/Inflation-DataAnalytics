{
 "cells": [
  {
   "cell_type": "markdown",
   "metadata": {},
   "source": [
    "Filipe Bernard - RM 97830\n",
    "\n",
    "## Inflation, consumer prices (annual %) - World Development Indicators"
   ]
  },
  {
   "cell_type": "markdown",
   "metadata": {},
   "source": [
    "Importação das bibliotecas necessárias"
   ]
  },
  {
   "cell_type": "code",
   "execution_count": 1,
   "metadata": {},
   "outputs": [],
   "source": [
    "import pandas as pd\n",
    "import matplotlib.pyplot as plt \n",
    "import numpy as np"
   ]
  },
  {
   "cell_type": "markdown",
   "metadata": {},
   "source": [
    "Leitura do arquivo CSV"
   ]
  },
  {
   "cell_type": "code",
   "execution_count": 2,
   "metadata": {},
   "outputs": [
    {
     "data": {
      "text/html": [
       "<div>\n",
       "<style scoped>\n",
       "    .dataframe tbody tr th:only-of-type {\n",
       "        vertical-align: middle;\n",
       "    }\n",
       "\n",
       "    .dataframe tbody tr th {\n",
       "        vertical-align: top;\n",
       "    }\n",
       "\n",
       "    .dataframe thead th {\n",
       "        text-align: right;\n",
       "    }\n",
       "</style>\n",
       "<table border=\"1\" class=\"dataframe\">\n",
       "  <thead>\n",
       "    <tr style=\"text-align: right;\">\n",
       "      <th></th>\n",
       "      <th>Country Name</th>\n",
       "      <th>Country Code</th>\n",
       "      <th>Indicator Name</th>\n",
       "      <th>Indicator Code</th>\n",
       "      <th>1960</th>\n",
       "      <th>1961</th>\n",
       "      <th>1962</th>\n",
       "      <th>1963</th>\n",
       "      <th>1964</th>\n",
       "      <th>1965</th>\n",
       "      <th>...</th>\n",
       "      <th>2015</th>\n",
       "      <th>2016</th>\n",
       "      <th>2017</th>\n",
       "      <th>2018</th>\n",
       "      <th>2019</th>\n",
       "      <th>2020</th>\n",
       "      <th>2021</th>\n",
       "      <th>2022</th>\n",
       "      <th>2023</th>\n",
       "      <th>Unnamed: 68</th>\n",
       "    </tr>\n",
       "  </thead>\n",
       "  <tbody>\n",
       "    <tr>\n",
       "      <th>0</th>\n",
       "      <td>Aruba</td>\n",
       "      <td>ABW</td>\n",
       "      <td>Inflation, consumer prices (annual %)</td>\n",
       "      <td>FP.CPI.TOTL.ZG</td>\n",
       "      <td>NaN</td>\n",
       "      <td>NaN</td>\n",
       "      <td>NaN</td>\n",
       "      <td>NaN</td>\n",
       "      <td>NaN</td>\n",
       "      <td>NaN</td>\n",
       "      <td>...</td>\n",
       "      <td>0.474764</td>\n",
       "      <td>-0.931196</td>\n",
       "      <td>-1.028282</td>\n",
       "      <td>3.626041</td>\n",
       "      <td>4.257462</td>\n",
       "      <td>NaN</td>\n",
       "      <td>NaN</td>\n",
       "      <td>NaN</td>\n",
       "      <td>NaN</td>\n",
       "      <td>NaN</td>\n",
       "    </tr>\n",
       "    <tr>\n",
       "      <th>1</th>\n",
       "      <td>Africa Eastern and Southern</td>\n",
       "      <td>AFE</td>\n",
       "      <td>Inflation, consumer prices (annual %)</td>\n",
       "      <td>FP.CPI.TOTL.ZG</td>\n",
       "      <td>NaN</td>\n",
       "      <td>NaN</td>\n",
       "      <td>NaN</td>\n",
       "      <td>NaN</td>\n",
       "      <td>NaN</td>\n",
       "      <td>NaN</td>\n",
       "      <td>...</td>\n",
       "      <td>5.245878</td>\n",
       "      <td>6.571396</td>\n",
       "      <td>6.399343</td>\n",
       "      <td>4.720811</td>\n",
       "      <td>4.653665</td>\n",
       "      <td>7.321106</td>\n",
       "      <td>6.824727</td>\n",
       "      <td>10.773751</td>\n",
       "      <td>NaN</td>\n",
       "      <td>NaN</td>\n",
       "    </tr>\n",
       "    <tr>\n",
       "      <th>2</th>\n",
       "      <td>Afghanistan</td>\n",
       "      <td>AFG</td>\n",
       "      <td>Inflation, consumer prices (annual %)</td>\n",
       "      <td>FP.CPI.TOTL.ZG</td>\n",
       "      <td>NaN</td>\n",
       "      <td>NaN</td>\n",
       "      <td>NaN</td>\n",
       "      <td>NaN</td>\n",
       "      <td>NaN</td>\n",
       "      <td>NaN</td>\n",
       "      <td>...</td>\n",
       "      <td>-0.661709</td>\n",
       "      <td>4.383892</td>\n",
       "      <td>4.975952</td>\n",
       "      <td>0.626149</td>\n",
       "      <td>2.302373</td>\n",
       "      <td>NaN</td>\n",
       "      <td>NaN</td>\n",
       "      <td>NaN</td>\n",
       "      <td>NaN</td>\n",
       "      <td>NaN</td>\n",
       "    </tr>\n",
       "    <tr>\n",
       "      <th>3</th>\n",
       "      <td>Africa Western and Central</td>\n",
       "      <td>AFW</td>\n",
       "      <td>Inflation, consumer prices (annual %)</td>\n",
       "      <td>FP.CPI.TOTL.ZG</td>\n",
       "      <td>NaN</td>\n",
       "      <td>NaN</td>\n",
       "      <td>NaN</td>\n",
       "      <td>NaN</td>\n",
       "      <td>NaN</td>\n",
       "      <td>NaN</td>\n",
       "      <td>...</td>\n",
       "      <td>2.130817</td>\n",
       "      <td>1.487416</td>\n",
       "      <td>1.764635</td>\n",
       "      <td>1.784050</td>\n",
       "      <td>1.760112</td>\n",
       "      <td>2.437609</td>\n",
       "      <td>3.653533</td>\n",
       "      <td>7.967574</td>\n",
       "      <td>NaN</td>\n",
       "      <td>NaN</td>\n",
       "    </tr>\n",
       "    <tr>\n",
       "      <th>4</th>\n",
       "      <td>Angola</td>\n",
       "      <td>AGO</td>\n",
       "      <td>Inflation, consumer prices (annual %)</td>\n",
       "      <td>FP.CPI.TOTL.ZG</td>\n",
       "      <td>NaN</td>\n",
       "      <td>NaN</td>\n",
       "      <td>NaN</td>\n",
       "      <td>NaN</td>\n",
       "      <td>NaN</td>\n",
       "      <td>NaN</td>\n",
       "      <td>...</td>\n",
       "      <td>9.353840</td>\n",
       "      <td>30.698958</td>\n",
       "      <td>29.842578</td>\n",
       "      <td>19.630594</td>\n",
       "      <td>17.079704</td>\n",
       "      <td>22.271564</td>\n",
       "      <td>25.754266</td>\n",
       "      <td>NaN</td>\n",
       "      <td>NaN</td>\n",
       "      <td>NaN</td>\n",
       "    </tr>\n",
       "    <tr>\n",
       "      <th>...</th>\n",
       "      <td>...</td>\n",
       "      <td>...</td>\n",
       "      <td>...</td>\n",
       "      <td>...</td>\n",
       "      <td>...</td>\n",
       "      <td>...</td>\n",
       "      <td>...</td>\n",
       "      <td>...</td>\n",
       "      <td>...</td>\n",
       "      <td>...</td>\n",
       "      <td>...</td>\n",
       "      <td>...</td>\n",
       "      <td>...</td>\n",
       "      <td>...</td>\n",
       "      <td>...</td>\n",
       "      <td>...</td>\n",
       "      <td>...</td>\n",
       "      <td>...</td>\n",
       "      <td>...</td>\n",
       "      <td>...</td>\n",
       "      <td>...</td>\n",
       "    </tr>\n",
       "    <tr>\n",
       "      <th>261</th>\n",
       "      <td>Kosovo</td>\n",
       "      <td>XKX</td>\n",
       "      <td>Inflation, consumer prices (annual %)</td>\n",
       "      <td>FP.CPI.TOTL.ZG</td>\n",
       "      <td>NaN</td>\n",
       "      <td>NaN</td>\n",
       "      <td>NaN</td>\n",
       "      <td>NaN</td>\n",
       "      <td>NaN</td>\n",
       "      <td>NaN</td>\n",
       "      <td>...</td>\n",
       "      <td>-0.536929</td>\n",
       "      <td>0.273169</td>\n",
       "      <td>1.488234</td>\n",
       "      <td>1.053798</td>\n",
       "      <td>2.675992</td>\n",
       "      <td>0.198228</td>\n",
       "      <td>3.353691</td>\n",
       "      <td>11.580510</td>\n",
       "      <td>NaN</td>\n",
       "      <td>NaN</td>\n",
       "    </tr>\n",
       "    <tr>\n",
       "      <th>262</th>\n",
       "      <td>Yemen, Rep.</td>\n",
       "      <td>YEM</td>\n",
       "      <td>Inflation, consumer prices (annual %)</td>\n",
       "      <td>FP.CPI.TOTL.ZG</td>\n",
       "      <td>NaN</td>\n",
       "      <td>NaN</td>\n",
       "      <td>NaN</td>\n",
       "      <td>NaN</td>\n",
       "      <td>NaN</td>\n",
       "      <td>NaN</td>\n",
       "      <td>...</td>\n",
       "      <td>NaN</td>\n",
       "      <td>NaN</td>\n",
       "      <td>NaN</td>\n",
       "      <td>NaN</td>\n",
       "      <td>NaN</td>\n",
       "      <td>NaN</td>\n",
       "      <td>NaN</td>\n",
       "      <td>NaN</td>\n",
       "      <td>NaN</td>\n",
       "      <td>NaN</td>\n",
       "    </tr>\n",
       "    <tr>\n",
       "      <th>263</th>\n",
       "      <td>South Africa</td>\n",
       "      <td>ZAF</td>\n",
       "      <td>Inflation, consumer prices (annual %)</td>\n",
       "      <td>FP.CPI.TOTL.ZG</td>\n",
       "      <td>1.288859</td>\n",
       "      <td>2.102374</td>\n",
       "      <td>1.246285</td>\n",
       "      <td>1.33797</td>\n",
       "      <td>2.534973</td>\n",
       "      <td>4.069029</td>\n",
       "      <td>...</td>\n",
       "      <td>4.540642</td>\n",
       "      <td>6.571396</td>\n",
       "      <td>5.184247</td>\n",
       "      <td>4.517165</td>\n",
       "      <td>4.120246</td>\n",
       "      <td>3.210036</td>\n",
       "      <td>4.611672</td>\n",
       "      <td>7.039727</td>\n",
       "      <td>NaN</td>\n",
       "      <td>NaN</td>\n",
       "    </tr>\n",
       "    <tr>\n",
       "      <th>264</th>\n",
       "      <td>Zambia</td>\n",
       "      <td>ZMB</td>\n",
       "      <td>Inflation, consumer prices (annual %)</td>\n",
       "      <td>FP.CPI.TOTL.ZG</td>\n",
       "      <td>NaN</td>\n",
       "      <td>NaN</td>\n",
       "      <td>NaN</td>\n",
       "      <td>NaN</td>\n",
       "      <td>NaN</td>\n",
       "      <td>NaN</td>\n",
       "      <td>...</td>\n",
       "      <td>10.110593</td>\n",
       "      <td>17.869730</td>\n",
       "      <td>6.577312</td>\n",
       "      <td>7.494572</td>\n",
       "      <td>9.150316</td>\n",
       "      <td>15.733060</td>\n",
       "      <td>22.020768</td>\n",
       "      <td>10.993204</td>\n",
       "      <td>NaN</td>\n",
       "      <td>NaN</td>\n",
       "    </tr>\n",
       "    <tr>\n",
       "      <th>265</th>\n",
       "      <td>Zimbabwe</td>\n",
       "      <td>ZWE</td>\n",
       "      <td>Inflation, consumer prices (annual %)</td>\n",
       "      <td>FP.CPI.TOTL.ZG</td>\n",
       "      <td>NaN</td>\n",
       "      <td>NaN</td>\n",
       "      <td>NaN</td>\n",
       "      <td>NaN</td>\n",
       "      <td>NaN</td>\n",
       "      <td>NaN</td>\n",
       "      <td>...</td>\n",
       "      <td>-2.430968</td>\n",
       "      <td>-1.543670</td>\n",
       "      <td>0.893962</td>\n",
       "      <td>10.618866</td>\n",
       "      <td>255.304991</td>\n",
       "      <td>557.201817</td>\n",
       "      <td>98.546105</td>\n",
       "      <td>104.705171</td>\n",
       "      <td>NaN</td>\n",
       "      <td>NaN</td>\n",
       "    </tr>\n",
       "  </tbody>\n",
       "</table>\n",
       "<p>266 rows × 69 columns</p>\n",
       "</div>"
      ],
      "text/plain": [
       "                    Country Name Country Code  \\\n",
       "0                          Aruba          ABW   \n",
       "1    Africa Eastern and Southern          AFE   \n",
       "2                    Afghanistan          AFG   \n",
       "3     Africa Western and Central          AFW   \n",
       "4                         Angola          AGO   \n",
       "..                           ...          ...   \n",
       "261                       Kosovo          XKX   \n",
       "262                  Yemen, Rep.          YEM   \n",
       "263                 South Africa          ZAF   \n",
       "264                       Zambia          ZMB   \n",
       "265                     Zimbabwe          ZWE   \n",
       "\n",
       "                            Indicator Name  Indicator Code      1960  \\\n",
       "0    Inflation, consumer prices (annual %)  FP.CPI.TOTL.ZG       NaN   \n",
       "1    Inflation, consumer prices (annual %)  FP.CPI.TOTL.ZG       NaN   \n",
       "2    Inflation, consumer prices (annual %)  FP.CPI.TOTL.ZG       NaN   \n",
       "3    Inflation, consumer prices (annual %)  FP.CPI.TOTL.ZG       NaN   \n",
       "4    Inflation, consumer prices (annual %)  FP.CPI.TOTL.ZG       NaN   \n",
       "..                                     ...             ...       ...   \n",
       "261  Inflation, consumer prices (annual %)  FP.CPI.TOTL.ZG       NaN   \n",
       "262  Inflation, consumer prices (annual %)  FP.CPI.TOTL.ZG       NaN   \n",
       "263  Inflation, consumer prices (annual %)  FP.CPI.TOTL.ZG  1.288859   \n",
       "264  Inflation, consumer prices (annual %)  FP.CPI.TOTL.ZG       NaN   \n",
       "265  Inflation, consumer prices (annual %)  FP.CPI.TOTL.ZG       NaN   \n",
       "\n",
       "         1961      1962     1963      1964      1965  ...       2015  \\\n",
       "0         NaN       NaN      NaN       NaN       NaN  ...   0.474764   \n",
       "1         NaN       NaN      NaN       NaN       NaN  ...   5.245878   \n",
       "2         NaN       NaN      NaN       NaN       NaN  ...  -0.661709   \n",
       "3         NaN       NaN      NaN       NaN       NaN  ...   2.130817   \n",
       "4         NaN       NaN      NaN       NaN       NaN  ...   9.353840   \n",
       "..        ...       ...      ...       ...       ...  ...        ...   \n",
       "261       NaN       NaN      NaN       NaN       NaN  ...  -0.536929   \n",
       "262       NaN       NaN      NaN       NaN       NaN  ...        NaN   \n",
       "263  2.102374  1.246285  1.33797  2.534973  4.069029  ...   4.540642   \n",
       "264       NaN       NaN      NaN       NaN       NaN  ...  10.110593   \n",
       "265       NaN       NaN      NaN       NaN       NaN  ...  -2.430968   \n",
       "\n",
       "          2016       2017       2018        2019        2020       2021  \\\n",
       "0    -0.931196  -1.028282   3.626041    4.257462         NaN        NaN   \n",
       "1     6.571396   6.399343   4.720811    4.653665    7.321106   6.824727   \n",
       "2     4.383892   4.975952   0.626149    2.302373         NaN        NaN   \n",
       "3     1.487416   1.764635   1.784050    1.760112    2.437609   3.653533   \n",
       "4    30.698958  29.842578  19.630594   17.079704   22.271564  25.754266   \n",
       "..         ...        ...        ...         ...         ...        ...   \n",
       "261   0.273169   1.488234   1.053798    2.675992    0.198228   3.353691   \n",
       "262        NaN        NaN        NaN         NaN         NaN        NaN   \n",
       "263   6.571396   5.184247   4.517165    4.120246    3.210036   4.611672   \n",
       "264  17.869730   6.577312   7.494572    9.150316   15.733060  22.020768   \n",
       "265  -1.543670   0.893962  10.618866  255.304991  557.201817  98.546105   \n",
       "\n",
       "           2022  2023  Unnamed: 68  \n",
       "0           NaN   NaN          NaN  \n",
       "1     10.773751   NaN          NaN  \n",
       "2           NaN   NaN          NaN  \n",
       "3      7.967574   NaN          NaN  \n",
       "4           NaN   NaN          NaN  \n",
       "..          ...   ...          ...  \n",
       "261   11.580510   NaN          NaN  \n",
       "262         NaN   NaN          NaN  \n",
       "263    7.039727   NaN          NaN  \n",
       "264   10.993204   NaN          NaN  \n",
       "265  104.705171   NaN          NaN  \n",
       "\n",
       "[266 rows x 69 columns]"
      ]
     },
     "execution_count": 2,
     "metadata": {},
     "output_type": "execute_result"
    }
   ],
   "source": [
    "dataframe = pd.read_csv(\"inflation.csv\", skiprows=3)\n",
    "dataframe"
   ]
  },
  {
   "cell_type": "markdown",
   "metadata": {},
   "source": [
    "Filtrando para apenas nos mostrar a linha com as informações sobre o Brasil"
   ]
  },
  {
   "cell_type": "code",
   "execution_count": 3,
   "metadata": {},
   "outputs": [
    {
     "data": {
      "text/html": [
       "<div>\n",
       "<style scoped>\n",
       "    .dataframe tbody tr th:only-of-type {\n",
       "        vertical-align: middle;\n",
       "    }\n",
       "\n",
       "    .dataframe tbody tr th {\n",
       "        vertical-align: top;\n",
       "    }\n",
       "\n",
       "    .dataframe thead th {\n",
       "        text-align: right;\n",
       "    }\n",
       "</style>\n",
       "<table border=\"1\" class=\"dataframe\">\n",
       "  <thead>\n",
       "    <tr style=\"text-align: right;\">\n",
       "      <th></th>\n",
       "      <th>Country Name</th>\n",
       "      <th>Country Code</th>\n",
       "      <th>Indicator Name</th>\n",
       "      <th>Indicator Code</th>\n",
       "      <th>1960</th>\n",
       "      <th>1961</th>\n",
       "      <th>1962</th>\n",
       "      <th>1963</th>\n",
       "      <th>1964</th>\n",
       "      <th>1965</th>\n",
       "      <th>...</th>\n",
       "      <th>2015</th>\n",
       "      <th>2016</th>\n",
       "      <th>2017</th>\n",
       "      <th>2018</th>\n",
       "      <th>2019</th>\n",
       "      <th>2020</th>\n",
       "      <th>2021</th>\n",
       "      <th>2022</th>\n",
       "      <th>2023</th>\n",
       "      <th>Unnamed: 68</th>\n",
       "    </tr>\n",
       "  </thead>\n",
       "  <tbody>\n",
       "    <tr>\n",
       "      <th>29</th>\n",
       "      <td>Brazil</td>\n",
       "      <td>BRA</td>\n",
       "      <td>Inflation, consumer prices (annual %)</td>\n",
       "      <td>FP.CPI.TOTL.ZG</td>\n",
       "      <td>NaN</td>\n",
       "      <td>NaN</td>\n",
       "      <td>NaN</td>\n",
       "      <td>NaN</td>\n",
       "      <td>NaN</td>\n",
       "      <td>NaN</td>\n",
       "      <td>...</td>\n",
       "      <td>9.029901</td>\n",
       "      <td>8.739144</td>\n",
       "      <td>3.446373</td>\n",
       "      <td>3.66485</td>\n",
       "      <td>3.732976</td>\n",
       "      <td>3.211768</td>\n",
       "      <td>8.30166</td>\n",
       "      <td>9.280106</td>\n",
       "      <td>NaN</td>\n",
       "      <td>NaN</td>\n",
       "    </tr>\n",
       "  </tbody>\n",
       "</table>\n",
       "<p>1 rows × 69 columns</p>\n",
       "</div>"
      ],
      "text/plain": [
       "   Country Name Country Code                         Indicator Name  \\\n",
       "29       Brazil          BRA  Inflation, consumer prices (annual %)   \n",
       "\n",
       "    Indicator Code  1960  1961  1962  1963  1964  1965  ...      2015  \\\n",
       "29  FP.CPI.TOTL.ZG   NaN   NaN   NaN   NaN   NaN   NaN  ...  9.029901   \n",
       "\n",
       "        2016      2017     2018      2019      2020     2021      2022  2023  \\\n",
       "29  8.739144  3.446373  3.66485  3.732976  3.211768  8.30166  9.280106   NaN   \n",
       "\n",
       "    Unnamed: 68  \n",
       "29          NaN  \n",
       "\n",
       "[1 rows x 69 columns]"
      ]
     },
     "execution_count": 3,
     "metadata": {},
     "output_type": "execute_result"
    }
   ],
   "source": [
    "pais = dataframe[dataframe['Country Name'] == 'Brazil']\n",
    "pais"
   ]
  },
  {
   "cell_type": "markdown",
   "metadata": {},
   "source": [
    "## GRÁFICO DE LINHAS"
   ]
  },
  {
   "cell_type": "markdown",
   "metadata": {},
   "source": [
    "Criando um gráfico de linha que nos mostra o aumento dos preços, em relação ao aumento da inflação. O Brasil foi o país escolhido para analisarmos"
   ]
  },
  {
   "cell_type": "code",
   "execution_count": 4,
   "metadata": {},
   "outputs": [
    {
     "data": {
      "image/png": "[encoded data removed]",
      "text/plain": [
       "<Figure size 640x480 with 1 Axes>"
      ]
     },
     "metadata": {},
     "output_type": "display_data"
    }
   ],
   "source": [
    "x = [2018, 2019, 2020, 2021]\n",
    "y = [pais['2018'], pais['2019'], pais['2020'], pais['2021']]\n",
    "\n",
    "fig, ax = plt.subplots()\n",
    "ax.plot(x, y, color='red')\n",
    "\n",
    "ax.set_title(\"Aumento dos preços por conta da inflação - Brasil\")\n",
    "ax.set_xlabel(\"Anos\")\n",
    "ax.set_ylabel(\"Aumento em %\")\n",
    "\n",
    "plt.xticks(x)\n",
    "plt.yticks([0, 2, 4, 6, 8, 10])\n",
    "\n",
    "plt.show()"
   ]
  },
  {
   "cell_type": "markdown",
   "metadata": {},
   "source": [
    "Podemos notar que entre 2020 e 2021 ouve uma disparada nos preços, justamente por conta do impacto da COVID-19, que fez o governo brasileiro imprimir bastante dinheiro."
   ]
  },
  {
   "cell_type": "markdown",
   "metadata": {},
   "source": [
    "## GRÁFICO DE BARRAS"
   ]
  },
  {
   "cell_type": "markdown",
   "metadata": {},
   "source": [
    "Criando um gráfico de barras para a melhor visualização da diferença entre os anos."
   ]
  },
  {
   "cell_type": "code",
   "execution_count": 5,
   "metadata": {},
   "outputs": [
    {
     "data": {
      "image/png": "[encoded data removed]",
      "text/plain": [
       "<Figure size 640x480 with 1 Axes>"
      ]
     },
     "metadata": {},
     "output_type": "display_data"
    }
   ],
   "source": [
    "fig, ax = plt.subplots()\n",
    "\n",
    "prices = [pais['2018'].values[0], pais['2019'].values[0], pais['2020'].values[0], pais['2021'].values[0]]\n",
    "years = [2018, 2019, 2020, 2021]\n",
    "bar_label = ['2018', '2019', '2020', '2021']\n",
    "bar_color = ['tab:blue', 'tab:green', 'tab:orange', 'tab:red']\n",
    "\n",
    "ax.bar(years, prices, label = bar_label, color = bar_color)\n",
    "\n",
    "ax.set_title(\"Aumento dos preços por conta da inflação - Brasil\")\n",
    "ax.set_ylabel(\"Aumento dos preços em %\")\n",
    "ax.legend(title=\"Anos\")\n",
    "\n",
    "plt.xticks(x)\n",
    "plt.yticks([0, 2, 4, 6, 8, 10])\n",
    "\n",
    "plt.show()"
   ]
  },
  {
   "cell_type": "markdown",
   "metadata": {},
   "source": [
    "Aqui podemos ver melhor a diferença de cada ano e o crescimento dos preços em 2021.\n",
    "\n",
    "PS: Apenas para esclarecer o código, usei pais['Ano'].values[0] ao invés de pais['Ano'] pois, o ax.bar não aceita valores como listas e quando puxamos este dado diretamente do nosso df, ele vem como um lista. Quando eu utilizo o .values[0] eu pego o primeiro valor de uma lista (que neste caso, tem apenas um valor) e retorno ele."
   ]
  },
  {
   "cell_type": "markdown",
   "metadata": {},
   "source": [
    "## GRÁFICO DE HISTOGRAMA"
   ]
  },
  {
   "cell_type": "markdown",
   "metadata": {},
   "source": [
    "Criando um gráfico de histograma para ver a frequência da porcentagem do aumento de preço, em relação ao aumento da inflação"
   ]
  },
  {
   "cell_type": "code",
   "execution_count": 6,
   "metadata": {},
   "outputs": [
    {
     "data": {
      "image/png": "[encoded data removed]",
      "text/plain": [
       "<Figure size 640x480 with 1 Axes>"
      ]
     },
     "metadata": {},
     "output_type": "display_data"
    }
   ],
   "source": [
    "\n",
    "fig, ax = plt.subplots()\n",
    "\n",
    "data = [pais['2001'].values[0], pais['2008'].values[0], pais['2015'].values[0], pais['2022'].values[0]]\n",
    "xbins = [2, 5, 6, 9, 10]\n",
    "\n",
    "ax.hist(data, bins=xbins, edgecolor='black', color='red', width=0.4)\n",
    "\n",
    "ax.set_title(\"Aumento dos preços por conta da inflação - Brasil\")\n",
    "ax.set_xlabel(\"Aumento em %\")\n",
    "ax.set_ylabel(\"Frequeência\")\n",
    "\n",
    "plt.xticks([1, 2, 3, 4, 5, 6, 7, 8, 9, 10])\n",
    "plt.yticks([1, 2, 3, 4])\n",
    "\n",
    "plt.show()"
   ]
  },
  {
   "cell_type": "markdown",
   "metadata": {},
   "source": [
    "Aqui podemos observar a frequência do aumento dos preços dos anos de 2001, 2008, 2015, 2022. Tendo 1 aumento entre 5% - 5.9% (2001), 1 aumento entre 6% - 6.9% (2008) e 2 aumentos entre 9% - 9.9% (2015 e 2022)."
   ]
  },
  {
   "cell_type": "markdown",
   "metadata": {},
   "source": [
    "## GRÁFICO DE PIZZA"
   ]
  },
  {
   "cell_type": "markdown",
   "metadata": {},
   "source": [
    "Criando um gráfico de pizza para visualizar como cada porcentagem de aumento de preço, de cada ano entre 2018 e 2022, contribui em relação ao total nesse período."
   ]
  },
  {
   "cell_type": "code",
   "execution_count": 7,
   "metadata": {},
   "outputs": [
    {
     "data": {
      "image/png": "[encoded data removed]",
      "text/plain": [
       "<Figure size 640x480 with 1 Axes>"
      ]
     },
     "metadata": {},
     "output_type": "display_data"
    }
   ],
   "source": [
    "fig, ax = plt.subplots()\n",
    "\n",
    "label = ['2018', '2019', '2020', '2021', '2022']\n",
    "data = [pais['2018'].values[0], pais['2019'].values[0], pais['2020'].values[0], pais['2021'].values[0], pais['2022'].values[0]]\n",
    "\n",
    "colors = plt.get_cmap('Reds')(np.linspace(0.1, 0.6, len(data)))\n",
    "\n",
    "ax.pie(data, labels=label, autopct='%1.1f%%', colors=colors)\n",
    "\n",
    "plt.show()\n"
   ]
  },
  {
   "cell_type": "markdown",
   "metadata": {},
   "source": [
    "Aqui temos uma melhor visualização do quanto cada ano representa em relação ao total."
   ]
  },
  {
   "cell_type": "markdown",
   "metadata": {},
   "source": [
    "## GRÁFICO DE DISPERSÃO (SCATTER)"
   ]
  },
  {
   "cell_type": "markdown",
   "metadata": {},
   "source": [
    "Criando um gráfico scatter para analisar um terceiro elemento."
   ]
  },
  {
   "cell_type": "code",
   "execution_count": 8,
   "metadata": {},
   "outputs": [
    {
     "data": {
      "image/png": "[encoded data removed]",
      "text/plain": [
       "<Figure size 400x300 with 1 Axes>"
      ]
     },
     "metadata": {},
     "output_type": "display_data"
    }
   ],
   "source": [
    "fig = plt.figure(figsize=(4, 3))\n",
    "\n",
    "x = ['2018', '2019', '2020', '2021', '2022']\n",
    "y = [pais['2018'].values[0], pais['2019'].values[0], pais['2020'].values[0], pais['2021'].values[0], pais['2022'].values[0]]\n",
    "\n",
    "total = y[0] + y[1] + y[2] + y[3] + y[4]\n",
    "\n",
    "porcentagem = [((y[0] / total) * 100) * 7, ((y[1] / total) * 100) * 7, ((y[2] / total) * 100) * 7, ((y[3] / total) * 100) * 7, ((y[4] / total) * 100) * 7]\n",
    "\n",
    "sizes = porcentagem\n",
    "\n",
    "colors = plt.get_cmap('Reds')(np.linspace(0.5, 1.1, len(x)))\n",
    "\n",
    "plt.scatter(x, y, c=colors, s=sizes, alpha=0.75)\n",
    "\n",
    "plt.title(\"Aumento dos preços por conta da inflação - Brasil\")\n",
    "plt.xlabel(\"Anos\")\n",
    "plt.ylabel(\"Aumento dos preços em %\")\n",
    "\n",
    "plt.show()\n",
    "\n"
   ]
  },
  {
   "cell_type": "markdown",
   "metadata": {},
   "source": [
    "Aqui temos um gráfico scatter, onde o X representa os Anos, o Y representa a Aumento dos preços em % e o S (tamanho das bolinhas) representa o quanto ela é significante em relação a soma total da porcentagem do aumento dos preços de 2018 até 2022."
   ]
  }
 ],
 "metadata": {
  "kernelspec": {
   "display_name": "Python 3",
   "language": "python",
   "name": "python3"
  },
  "language_info": {
   "codemirror_mode": {
    "name": "ipython",
    "version": 3
   },
   "file_extension": ".py",
   "mimetype": "text/x-python",
   "name": "python",
   "nbconvert_exporter": "python",
   "pygments_lexer": "ipython3",
   "version": "3.12.0"
  }
 },
 "nbformat": 4,
 "nbformat_minor": 2
}
